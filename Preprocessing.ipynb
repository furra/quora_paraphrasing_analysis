{
 "cells": [
  {
   "cell_type": "markdown",
   "metadata": {},
   "source": [
    "## Builds pickle files for processed questions"
   ]
  },
  {
   "cell_type": "code",
   "execution_count": null,
   "metadata": {},
   "outputs": [],
   "source": [
    "import pickle"
   ]
  },
  {
   "cell_type": "code",
   "execution_count": null,
   "metadata": {},
   "outputs": [],
   "source": [
    "question_pairs = []\n",
    "questions_filename = 'data/questions.txt'\n",
    "questions_file = open(questions_filename, 'w')\n",
    "with open('dataset/questions_corrected.tsv', 'r') as infile:\n",
    "    infile.readline() #read header line\n",
    "    for line in infile:\n",
    "        pline = line.lower().strip()\n",
    "        try:\n",
    "            pair_id, qid1, qid2, doc1, doc2, label = pline.split('\\t')\n",
    "        except ValueError:\n",
    "            print(\"error:\\n\",pline)\n",
    "            break\n",
    "        \n",
    "        pair_id = int(pair_id)\n",
    "        qid1 = int(qid1)\n",
    "        qid2 = int(qid2)\n",
    "        label = int(label)\n",
    "        question_pairs.append((pair_id, qid1, qid2, doc1, doc2, label))\n",
    "        \n",
    "        questions_file.write('{}\\n{}\\n'.format(doc1, doc2))\n",
    "\n",
    "q_file.close()\n",
    "pkl_file = open('data/question_pairs.list.pkl')\n",
    "pickle.dump(question_pairs, pkl_file)\n",
    "pkl_file.close()"
   ]
  },
  {
   "cell_type": "code",
   "execution_count": null,
   "metadata": {},
   "outputs": [],
   "source": []
  },
  {
   "cell_type": "code",
   "execution_count": null,
   "metadata": {},
   "outputs": [],
   "source": []
  },
  {
   "cell_type": "code",
   "execution_count": null,
   "metadata": {},
   "outputs": [],
   "source": []
  }
 ],
 "metadata": {
  "kernelspec": {
   "display_name": "Python 3",
   "language": "python",
   "name": "python3"
  },
  "language_info": {
   "codemirror_mode": {
    "name": "ipython",
    "version": 3
   },
   "file_extension": ".py",
   "mimetype": "text/x-python",
   "name": "python",
   "nbconvert_exporter": "python",
   "pygments_lexer": "ipython3",
   "version": "3.4.3"
  }
 },
 "nbformat": 4,
 "nbformat_minor": 2
}
