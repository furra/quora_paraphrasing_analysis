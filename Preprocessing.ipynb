{
 "cells": [
  {
   "cell_type": "markdown",
   "metadata": {},
   "source": [
    "## Builds pickle files for processed questions"
   ]
  },
  {
   "cell_type": "code",
   "execution_count": null,
   "metadata": {},
   "outputs": [],
   "source": [
    "import pickle\n",
    "import os"
   ]
  },
  {
   "cell_type": "markdown",
   "metadata": {},
   "source": [
    "## Correct question ids from the dataset\n",
    "\n",
    "Question IDs from the dataset are not correctly reused, i.e., a question repeated in different pairs will have different IDs for both pairs."
   ]
  },
  {
   "cell_type": "code",
   "execution_count": null,
   "metadata": {},
   "outputs": [],
   "source": [
    "originalfile = 'dataset/questions.tsv'\n",
    "newfile = 'dataset/questions_corrected.tsv'\n",
    "\n",
    "line2correction = {} #line id to corrected line\n",
    "questions = {}\n",
    "outfile = open(newfile, 'w')\n",
    "with open(originalfile) as infile: #original file\n",
    "    first_line = infile.readline() #skip header line\n",
    "    outfile.write(first_line)\n",
    "    for line in infile:\n",
    "        pline = line.lower().strip()\n",
    "        try:\n",
    "            pair_id, qid1, qid2, question1, question2, label = pline.split('\\t')\n",
    "        except ValueError:\n",
    "            print(\"error:\\n\",pline)\n",
    "            break\n",
    "\n",
    "        if question1 not in questions:\n",
    "            questions[question1] = qid1\n",
    "        else:\n",
    "            qid1 = questions[question1]\n",
    "\n",
    "        if question2 not in questions:\n",
    "            questions[question2] = qid2\n",
    "        else:\n",
    "            qid2 = questions[question2]\n",
    "\n",
    "        outfile.write(\"{}\\t{}\\t{}\\t{}\\t{}\\t{}\\n\".format(pair_id, qid1, qid2, question1, question2, label))\n",
    "outfile.close()"
   ]
  },
  {
   "cell_type": "code",
   "execution_count": null,
   "metadata": {},
   "outputs": [],
   "source": [
    "#create data directory\n",
    "if not os.path.exists('data'):\n",
    "    os.makedirs('data')\n",
    "\n",
    "question_pairs = []\n",
    "questions_filename = 'data/questions.txt'\n",
    "questions_file = open(questions_filename, 'w')\n",
    "with open('dataset/questions_corrected.tsv', 'r') as infile:\n",
    "    infile.readline() #read header line\n",
    "    for line in infile:\n",
    "        pline = line.lower().strip()\n",
    "        try:\n",
    "            pair_id, qid1, qid2, doc1, doc2, label = pline.split('\\t')\n",
    "        except ValueError:\n",
    "            print(\"error:\\n\",pline)\n",
    "            break\n",
    "        \n",
    "        pair_id = int(pair_id)\n",
    "        qid1 = int(qid1)\n",
    "        qid2 = int(qid2)\n",
    "        label = int(label)\n",
    "        question_pairs.append((pair_id, qid1, qid2, doc1, doc2, label))\n",
    "        \n",
    "        questions_file.write('{}\\n{}\\n'.format(doc1, doc2))\n",
    "\n",
    "questions_file.close()\n",
    "\n",
    "pkl_file = open('data/question_pairs.list.pkl', 'wb')\n",
    "pickle.dump(question_pairs, pkl_file)\n",
    "pkl_file.close()"
   ]
  },
  {
   "cell_type": "code",
   "execution_count": null,
   "metadata": {},
   "outputs": [],
   "source": []
  }
 ],
 "metadata": {
  "kernelspec": {
   "display_name": "Python 3",
   "language": "python",
   "name": "python3"
  },
  "language_info": {
   "codemirror_mode": {
    "name": "ipython",
    "version": 3
   },
   "file_extension": ".py",
   "mimetype": "text/x-python",
   "name": "python",
   "nbconvert_exporter": "python",
   "pygments_lexer": "ipython3",
   "version": "3.4.3"
  }
 },
 "nbformat": 4,
 "nbformat_minor": 2
}
